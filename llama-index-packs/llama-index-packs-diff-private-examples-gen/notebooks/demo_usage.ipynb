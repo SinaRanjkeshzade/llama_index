{
 "cells": [
  {
   "cell_type": "code",
   "execution_count": null,
   "id": "013f873a-5157-4c39-a277-01ced6f7de9c",
   "metadata": {},
   "outputs": [],
   "source": [
    "from llama_index.core.llama_dataset.simple import LabelledSimpleDataset\n",
    "from llama_index.packs.diff_private_simple_dataset.base import PromptBundle\n",
    "from llama_index.packs.diff_private_simple_dataset import DiffPrivateSimpleDatasetPack\n",
    "from llama_index.llms.openai import OpenAI\n",
    "import tiktoken"
   ]
  },
  {
   "cell_type": "markdown",
   "id": "53a3bed2-d702-4765-8366-cdedfafc10e2",
   "metadata": {},
   "source": [
    "### Load LabelledSimpleDataset"
   ]
  },
  {
   "cell_type": "code",
   "execution_count": null,
   "id": "a4c06c01-5450-43e5-bd31-837ec02dea33",
   "metadata": {},
   "outputs": [],
   "source": [
    "simple_dataset = LabelledSimpleDataset.from_json(\"./agnews.json\")"
   ]
  },
  {
   "cell_type": "code",
   "execution_count": null,
   "id": "d4d98604-fc39-4ff5-8396-6d70a039bebc",
   "metadata": {},
   "outputs": [
    {
     "data": {
      "text/html": [
       "<div>\n",
       "<style scoped>\n",
       "    .dataframe tbody tr th:only-of-type {\n",
       "        vertical-align: middle;\n",
       "    }\n",
       "\n",
       "    .dataframe tbody tr th {\n",
       "        vertical-align: top;\n",
       "    }\n",
       "\n",
       "    .dataframe thead th {\n",
       "        text-align: right;\n",
       "    }\n",
       "</style>\n",
       "<table border=\"1\" class=\"dataframe\">\n",
       "  <thead>\n",
       "    <tr style=\"text-align: right;\">\n",
       "      <th></th>\n",
       "      <th>reference_label</th>\n",
       "      <th>text</th>\n",
       "      <th>text_by</th>\n",
       "    </tr>\n",
       "  </thead>\n",
       "  <tbody>\n",
       "    <tr>\n",
       "      <th>0</th>\n",
       "      <td>Business</td>\n",
       "      <td>Wall St. Bears Claw Back Into the Black (Reute...</td>\n",
       "      <td>human</td>\n",
       "    </tr>\n",
       "    <tr>\n",
       "      <th>1</th>\n",
       "      <td>Business</td>\n",
       "      <td>Carlyle Looks Toward Commercial Aerospace (Reu...</td>\n",
       "      <td>human</td>\n",
       "    </tr>\n",
       "    <tr>\n",
       "      <th>2</th>\n",
       "      <td>Business</td>\n",
       "      <td>Oil and Economy Cloud Stocks' Outlook (Reuters...</td>\n",
       "      <td>human</td>\n",
       "    </tr>\n",
       "    <tr>\n",
       "      <th>3</th>\n",
       "      <td>Business</td>\n",
       "      <td>Iraq Halts Oil Exports from Main Southern Pipe...</td>\n",
       "      <td>human</td>\n",
       "    </tr>\n",
       "    <tr>\n",
       "      <th>4</th>\n",
       "      <td>Business</td>\n",
       "      <td>Oil prices soar to all-time record, posing new...</td>\n",
       "      <td>human</td>\n",
       "    </tr>\n",
       "  </tbody>\n",
       "</table>\n",
       "</div>"
      ],
      "text/plain": [
       "  reference_label                                               text text_by\n",
       "0        Business  Wall St. Bears Claw Back Into the Black (Reute...   human\n",
       "1        Business  Carlyle Looks Toward Commercial Aerospace (Reu...   human\n",
       "2        Business  Oil and Economy Cloud Stocks' Outlook (Reuters...   human\n",
       "3        Business  Iraq Halts Oil Exports from Main Southern Pipe...   human\n",
       "4        Business  Oil prices soar to all-time record, posing new...   human"
      ]
     },
     "execution_count": null,
     "metadata": {},
     "output_type": "execute_result"
    }
   ],
   "source": [
    "simple_dataset.to_pandas()[:5]"
   ]
  },
  {
   "cell_type": "code",
   "execution_count": null,
   "id": "afe67738-12d5-4a85-aa70-0510bc772038",
   "metadata": {},
   "outputs": [
    {
     "data": {
      "text/plain": [
       "reference_label\n",
       "Business    30000\n",
       "Sci/Tech    30000\n",
       "Sports      30000\n",
       "World       30000\n",
       "Name: count, dtype: int64"
      ]
     },
     "execution_count": null,
     "metadata": {},
     "output_type": "execute_result"
    }
   ],
   "source": [
    "simple_dataset.to_pandas().value_counts(\"reference_label\")"
   ]
  },
  {
   "cell_type": "markdown",
   "id": "d2baaff8-6c3d-45bf-8e24-0c59d11bd70c",
   "metadata": {},
   "source": [
    "### InstantiatePack"
   ]
  },
  {
   "cell_type": "code",
   "execution_count": null,
   "id": "6671b450-04c5-4aa4-bbb3-90d2c2acf4fa",
   "metadata": {},
   "outputs": [],
   "source": [
    "llm = OpenAI(\n",
    "    model=\"gpt-3.5-turbo-instruct\",\n",
    "    max_tokens=1,\n",
    "    logprobs=True,\n",
    "    top_logprobs=5,\n",
    ")\n",
    "tokenizer = tiktoken.encoding_for_model(\"gpt-3.5-turbo-instruct\")\n",
    "\n",
    "\n",
    "prompt_bundle = PromptBundle(\n",
    "    instruction=(\n",
    "        \"Given a label of news type, generate the chosen type of news accordingly.\\n\"\n",
    "        \"Start your answer directly after 'Text: '. Begin your answer with [RESULT].\\n\"\n",
    "    ),\n",
    "    label_heading=\"News Type\",\n",
    "    text_heading=\"Text\",\n",
    ")\n",
    "\n",
    "dp_simple_dataset_pack = DiffPrivateSimpleDatasetPack(\n",
    "    llm=llm,\n",
    "    tokenizer=tokenizer,\n",
    "    prompt_bundle=prompt_bundle,\n",
    "    simple_dataset=simple_dataset,\n",
    ")"
   ]
  },
  {
   "cell_type": "code",
   "execution_count": null,
   "id": "7f6f266c-5c7e-4d7f-b690-bbaf30ac6bb2",
   "metadata": {},
   "outputs": [
    {
     "name": "stderr",
     "output_type": "stream",
     "text": [
      "100%|█████████████████████████████████████████████████████████████████████████████████████| 35/35 [00:29<00:00,  1.17it/s]\n"
     ]
    },
    {
     "data": {
      "text/plain": [
       "LabelledSimpleDataExample(reference_label='Sports', text='The latest sports news: The New York Yankees have clinched a spot in the playoffs after defeating the Tampa Bay Rays 5-1 on Wednesday night. This', text_by=CreatedBy(model_name='gpt-3.5-turbo-instruct', type=<CreatedByType.AI: 'ai'>))"
      ]
     },
     "execution_count": null,
     "metadata": {},
     "output_type": "execute_result"
    }
   ],
   "source": [
    "dp_simple_dataset_pack.generate_dp_synthetic_example(\n",
    "    label=\"Sports\", t_max=35, sigma=0.1, num_splits=2, num_samples_per_split=8\n",
    ")"
   ]
  },
  {
   "cell_type": "code",
   "execution_count": null,
   "id": "cb0bd383-2ecd-4edb-bea2-bd5fc1a663c8",
   "metadata": {},
   "outputs": [
    {
     "name": "stderr",
     "output_type": "stream",
     "text": [
      "  6%|█████                                                                                | 6/100 [00:08<02:06,  1.34s/it]\n",
      "100%|███████████████████████████████████████████████████████████████████████████████████| 100/100 [01:49<00:00,  1.09s/it]\n"
     ]
    }
   ],
   "source": [
    "synthetic_dataset = dp_simple_dataset_pack.run(\n",
    "    sizes={\"World\": 1, \"Sports\": 1, \"Sci/Tech\": 0, \"Business\": 0},\n",
    "    t_max=100,\n",
    "    sigma=0.5,\n",
    "    num_splits=3,\n",
    "    num_samples_per_split=8,\n",
    ")"
   ]
  },
  {
   "cell_type": "code",
   "execution_count": null,
   "id": "0a96d3e8-7653-443e-880c-891d8c996f95",
   "metadata": {},
   "outputs": [
    {
     "name": "stdout",
     "output_type": "stream",
     "text": [
      "News Type: Sports\n",
      "Text: In the world of sports today, the NBA Finals concluded with a thrilling match between the Los Angeles Lakers and the Miami Heat. In football news, Real Madrid secured a decisive victory in their latest match. Meanwhile, preparations for the upcoming Olympics are in full swing with athletes from around the globe gearing up for the competition. Stay tuned for more updates and highlights from various sports events happening throughout the day.\n"
     ]
    }
   ],
   "source": [
    "print(synthetic_dataset.to_pandas().iloc[0].text)"
   ]
  },
  {
   "cell_type": "code",
   "execution_count": null,
   "id": "b7e6ebb5-b6d5-44d5-a751-fcdb6163347b",
   "metadata": {},
   "outputs": [
    {
     "name": "stdout",
     "output_type": "stream",
     "text": [
      "News Type: World\n",
      "Text: In the latest global news, the United Nations has called for a new strategy to address the ongoing conflict in Ukraine. World leaders have gathered to discuss potential solutions and developments. Stay tuned for more updates.\n"
     ]
    }
   ],
   "source": [
    "print(synthetic_dataset.to_pandas().iloc[1].text)"
   ]
  },
  {
   "cell_type": "code",
   "execution_count": null,
   "id": "781b3bb3-000c-482f-981c-feea008ebe1d",
   "metadata": {},
   "outputs": [],
   "source": [
    "from openai import OpenAI as OpenAIAPI\n",
    "\n",
    "client = OpenAIAPI()"
   ]
  },
  {
   "cell_type": "code",
   "execution_count": null,
   "id": "ceeb0d08-1481-483a-b5af-a00cbed4855c",
   "metadata": {},
   "outputs": [],
   "source": [
    "business = dp_simple_dataset_pack._filter_dataset_by_label(\"Business\")\n",
    "splits = dp_simple_dataset_pack._split_dataset(business, 5, 3)"
   ]
  },
  {
   "cell_type": "code",
   "execution_count": null,
   "id": "c87cbd88-4bbd-48af-9808-ff2ccc009b8f",
   "metadata": {},
   "outputs": [],
   "source": [
    "synthetic_example = \"\\n\\n[RESULT] Business\"\n",
    "label = \"Business\"\n",
    "prompt = dp_simple_dataset_pack._get_public_prompt(synthetic_example, label)"
   ]
  },
  {
   "cell_type": "code",
   "execution_count": null,
   "id": "4fc93ff5-a963-41e3-ae44-ab1978c122cf",
   "metadata": {},
   "outputs": [
    {
     "name": "stdout",
     "output_type": "stream",
     "text": [
      "Given a label of news type, generate the chosen type of news accordingly.\n",
      "Start your answer directly after 'Text: '. Begin your answer with [RESULT].\n",
      "\n",
      "News Type: Business\n",
      "Text: \n",
      "\n",
      "[RESULT] Business\n"
     ]
    }
   ],
   "source": [
    "print(prompt)"
   ]
  },
  {
   "cell_type": "code",
   "execution_count": null,
   "id": "d16aee93-2346-4590-939f-7b79beec0bb2",
   "metadata": {},
   "outputs": [
    {
     "name": "stdout",
     "output_type": "stream",
     "text": [
      "raw response: Completion(id='cmpl-91qIhnRAOvGt3nfS9M1XDH6fUg7E8', choices=[CompletionChoice(finish_reason='length', index=0, logprobs=Logprobs(text_offset=[196], token_logprobs=[-0.5169217], tokens=[' news'], top_logprobs=[{' news': -0.5169217, ' News': -2.1725404, ' is': -2.6637266, ' Insider': -3.6237085, 'man': -4.2520003}]), text=' news')], created=1710226399, model='gpt-3.5-turbo-instruct', object='text_completion', system_fingerprint=None, usage=CompletionUsage(completion_tokens=1, prompt_tokens=43, total_tokens=44))\n"
     ]
    }
   ],
   "source": [
    "response = llm.complete(prompt)"
   ]
  },
  {
   "cell_type": "code",
   "execution_count": null,
   "id": "93c30850-092e-4130-96af-8f9ab4d08fec",
   "metadata": {},
   "outputs": [
    {
     "data": {
      "text/plain": [
       "[[LogProb(token=' Sales', logprob=-0.21729077, bytes=[]),\n",
       "  LogProb(token='ers', logprob=-1.8933505, bytes=[]),\n",
       "  LogProb(token='er', logprob=-4.769968, bytes=[]),\n",
       "  LogProb(token=' Spending', logprob=-5.085491, bytes=[]),\n",
       "  LogProb(token=' Stocks', logprob=-5.312193, bytes=[])]]"
      ]
     },
     "execution_count": null,
     "metadata": {},
     "output_type": "execute_result"
    }
   ],
   "source": [
    "response.logprobs"
   ]
  },
  {
   "cell_type": "code",
   "execution_count": null,
   "id": "44c485db-1bc5-4c37-9652-5efd503abb50",
   "metadata": {},
   "outputs": [],
   "source": [
    "response = client.completions.create(\n",
    "    model=\"gpt-3.5-turbo-instruct\",\n",
    "    prompt=prompt,\n",
    "    max_tokens=2,\n",
    "    temperature=0,\n",
    "    logprobs=5,\n",
    ")"
   ]
  },
  {
   "cell_type": "code",
   "execution_count": null,
   "id": "19ff96f8-e644-42f8-b4b2-311ff1b6909c",
   "metadata": {},
   "outputs": [
    {
     "data": {
      "text/plain": [
       "Completion(id='cmpl-91pFbxtuIRkDdTAkc30uT4A25s7BC', choices=[CompletionChoice(finish_reason='length', index=0, logprobs=Logprobs(text_offset=[1408, 1414], token_logprobs=[-0.43670404, -1.7844177], tokens=[' Sales', ' Rise'], top_logprobs=[{' Sales': -0.43670404, 'ers': -1.5960592, 'er': -3.2029052, ' Holiday': -4.567468, ' Stocks': -4.951999}, {' Rise': -1.7844177, ' Rose': -2.3044314, ' Re': -2.4139857, ' Fall': -3.0089946, ' Up': -3.07311}]), text=' Sales Rise')], created=1710222363, model='gpt-3.5-turbo-instruct', object='text_completion', system_fingerprint=None, usage=CompletionUsage(completion_tokens=2, prompt_tokens=326, total_tokens=328))"
      ]
     },
     "execution_count": null,
     "metadata": {},
     "output_type": "execute_result"
    }
   ],
   "source": [
    "response"
   ]
  },
  {
   "cell_type": "code",
   "execution_count": null,
   "id": "a4a7c79d-622f-4b79-9181-fa3862088c44",
   "metadata": {},
   "outputs": [
    {
     "data": {
      "text/plain": [
       "Completion(id='cmpl-91p57xjQwaDPfOWvkVjJZq7ruciIN', choices=[CompletionChoice(finish_reason='length', index=0, logprobs=Logprobs(text_offset=[1401], token_logprobs=[-2.6306255], tokens=[' Retail'], top_logprobs=[{' Retail': -2.6306255, ' Stocks': -2.6668556, ' Job': -2.6953552, ' Economy': -2.8212268, ' Consumer': -3.2094753}]), text=' Retail')], created=1710221713, model='gpt-3.5-turbo-instruct', object='text_completion', system_fingerprint=None, usage=CompletionUsage(completion_tokens=1, prompt_tokens=325, total_tokens=326))"
      ]
     },
     "execution_count": null,
     "metadata": {},
     "output_type": "execute_result"
    }
   ],
   "source": [
    "response"
   ]
  },
  {
   "cell_type": "code",
   "execution_count": null,
   "id": "46203b99-523b-433d-9d62-25e73a34b170",
   "metadata": {},
   "outputs": [
    {
     "data": {
      "text/plain": [
       "Completion(id='cmpl-91p4tTDEp03V2FXboURBsiHbIZydN', choices=[CompletionChoice(finish_reason='length', index=0, logprobs=Logprobs(text_offset=[1400], token_logprobs=[-0.012113422], tokens=['.'], top_logprobs=[{'.': -0.012113422, '.,': -5.5512695, '.-': -6.629635, ' Retail': -7.7420826, ' Stocks': -7.8746986}]), text='.')], created=1710221699, model='gpt-3.5-turbo-instruct', object='text_completion', system_fingerprint=None, usage=CompletionUsage(completion_tokens=1, prompt_tokens=324, total_tokens=325))"
      ]
     },
     "execution_count": null,
     "metadata": {},
     "output_type": "execute_result"
    }
   ],
   "source": [
    "response"
   ]
  },
  {
   "cell_type": "code",
   "execution_count": null,
   "id": "98b7a51d-1ee2-4163-8b2d-4d01f0c3ffd9",
   "metadata": {},
   "outputs": [
    {
     "data": {
      "text/plain": [
       "Completion(id='cmpl-91p4UPRyoftVdoqxRdOnHylcl3NKh', choices=[CompletionChoice(finish_reason='length', index=0, logprobs=Logprobs(text_offset=[1398], token_logprobs=[-0.02724619], tokens=['.S'], top_logprobs=[{'.S': -0.02724619, 'BS': -4.65904, '.K': -5.094541, '.N': -5.8702025, 'AW': -5.907785}]), text='.S')], created=1710221674, model='gpt-3.5-turbo-instruct', object='text_completion', system_fingerprint=None, usage=CompletionUsage(completion_tokens=1, prompt_tokens=323, total_tokens=324))"
      ]
     },
     "execution_count": null,
     "metadata": {},
     "output_type": "execute_result"
    }
   ],
   "source": [
    "response"
   ]
  },
  {
   "cell_type": "code",
   "execution_count": null,
   "id": "64e1d14c-edbc-46bb-92dd-8291d272ac34",
   "metadata": {},
   "outputs": [
    {
     "data": {
      "text/plain": [
       "Completion(id='cmpl-91p3CYqLb6KBCT6eeWdnWGPrGRXCU', choices=[CompletionChoice(finish_reason='length', index=0, logprobs=Logprobs(text_offset=[1396], token_logprobs=[-2.9744303], tokens=[' U'], top_logprobs=[{' U': -2.9744303, '\\n': -3.3239577, '<|endoftext|>': -3.4435198, ' US': -3.508074, ' Wall': -3.8395998}]), text=' U')], created=1710221594, model='gpt-3.5-turbo-instruct', object='text_completion', system_fingerprint=None, usage=CompletionUsage(completion_tokens=1, prompt_tokens=322, total_tokens=323))"
      ]
     },
     "execution_count": null,
     "metadata": {},
     "output_type": "execute_result"
    }
   ],
   "source": [
    "response"
   ]
  }
 ],
 "metadata": {
  "kernelspec": {
   "display_name": "diff-private-examples-gen-pack",
   "language": "python",
   "name": "diff-private-examples-gen-pack"
  },
  "language_info": {
   "codemirror_mode": {
    "name": "ipython",
    "version": 3
   },
   "file_extension": ".py",
   "mimetype": "text/x-python",
   "name": "python",
   "nbconvert_exporter": "python",
   "pygments_lexer": "ipython3"
  }
 },
 "nbformat": 4,
 "nbformat_minor": 5
}
